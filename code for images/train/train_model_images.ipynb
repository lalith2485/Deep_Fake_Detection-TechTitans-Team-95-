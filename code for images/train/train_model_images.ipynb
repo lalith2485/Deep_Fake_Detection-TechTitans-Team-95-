{
  "nbformat": 4,
  "nbformat_minor": 0,
  "metadata": {
    "colab": {
      "provenance": []
    },
    "kernelspec": {
      "name": "python3",
      "display_name": "Python 3"
    },
    "language_info": {
      "name": "python"
    }
  },
  "cells": [
    {
      "cell_type": "code",
      "execution_count": null,
      "metadata": {
        "id": "NytLRtCa5dCU"
      },
      "outputs": [],
      "source": [
        "import numpy as np\n",
        "import cv2\n",
        "from tensorflow.keras.applications import VGG16\n",
        "from tensorflow.keras.models import Sequential\n",
        "from tensorflow.keras.layers import Dense, Flatten\n",
        "from tensorflow.keras.optimizers import Adam\n",
        "from sklearn.model_selection import train_test_split\n",
        "from sklearn.preprocessing import LabelBinarizer\n",
        "from sklearn.metrics import accuracy_score\n",
        "import os\n",
        "\n",
        "def load_image(image_path):\n",
        "    try:\n",
        "        print(f\"Trying to load image from: {image_path}\")\n",
        "        if not os.path.exists(image_path):\n",
        "            print(f\"File does not exist: {image_path}\")\n",
        "            return None\n",
        "        image = cv2.imread(image_path)\n",
        "        if image is None:\n",
        "            print(f\"Error loading image: {image_path}\")\n",
        "            return None\n",
        "        image = cv2.resize(image, (224, 224))\n",
        "        image = image.astype('float32') / 255.0\n",
        "        return image\n",
        "    except Exception as e:\n",
        "        print(f\"Exception occurred: {e}\")\n",
        "        return None\n",
        "\n",
        "def prepare_dataset(image_paths, labels):\n",
        "    X, y = [], []\n",
        "    for image_path, label in zip(image_paths, labels):\n",
        "        image = load_image(image_path)\n",
        "        if image is None:\n",
        "            continue\n",
        "        X.append(image)\n",
        "        y.append(label)\n",
        "\n",
        "    print(f\"X length: {len(X)}\")\n",
        "    print(f\"y length: {len(y)}\")\n",
        "    print(f\"Sample X: {X[0] if X else 'None'}\")\n",
        "    print(f\"Sample y: {y[0] if y else 'None'}\")\n",
        "\n",
        "    X = np.array(X)\n",
        "    y = np.array(y)\n",
        "\n",
        "    lb = LabelBinarizer()\n",
        "    y = lb.fit_transform(y)\n",
        "\n",
        "    return train_test_split(X, y, test_size=0.2, random_state=42)\n",
        "\n",
        "def create_model():\n",
        "    model = Sequential()\n",
        "    vgg16 = VGG16(weights='imagenet', include_top=False, input_shape=(224, 224, 3))\n",
        "    for layer in vgg16.layers:\n",
        "        layer.trainable = False\n",
        "    model.add(vgg16)\n",
        "    model.add(Flatten())\n",
        "    model.add(Dense(64, activation='relu'))\n",
        "    model.add(Dense(1, activation='sigmoid'))\n",
        "    model.compile(optimizer=Adam(learning_rate=0.0001), loss='binary_crossentropy', metrics=['accuracy'])\n",
        "    return model\n",
        "\n",
        "image_paths = [\"image1.jpg\", \"image2.jpg\"]\n",
        "labels = [\"real\", \"fake\"]\n",
        "\n",
        "X_train, X_test, y_train, y_test = prepare_dataset(image_paths, labels)\n",
        "\n",
        "if len(X_train) == 0 or len(X_test) == 0:\n",
        "    print(\"No data to train or test. Please check the image paths and data preparation.\")\n",
        "else:\n",
        "    model = create_model()\n",
        "    history = model.fit(X_train, y_train, validation_data=(X_test, y_test), epochs=10, batch_size=8)\n",
        "    model.save('deepfake_detection_model_images.h5')\n",
        "\n",
        "    y_pred = model.predict(X_test)\n",
        "    y_pred = (y_pred > 0.5).astype(int)\n",
        "\n",
        "    accuracy = accuracy_score(y_test, y_pred)\n",
        "    print(f'Test Accuracy: {accuracy * 100:.2f}%')\n"
      ]
    },
    {
      "cell_type": "code",
      "source": [],
      "metadata": {
        "id": "l2JRn4xZZ2hO"
      },
      "execution_count": null,
      "outputs": []
    }
  ]
}
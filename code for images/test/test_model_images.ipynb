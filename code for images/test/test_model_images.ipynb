{
  "nbformat": 4,
  "nbformat_minor": 0,
  "metadata": {
    "colab": {
      "provenance": []
    },
    "kernelspec": {
      "name": "python3",
      "display_name": "Python 3"
    },
    "language_info": {
      "name": "python"
    }
  },
  "cells": [
    {
      "cell_type": "code",
      "execution_count": null,
      "metadata": {
        "id": "CyBtiaXa5pXQ"
      },
      "outputs": [],
      "source": [
        "import numpy as np\n",
        "import cv2\n",
        "from tensorflow.keras.models import load_model\n",
        "\n",
        "# Function to load and preprocess images\n",
        "def load_image(image_path):\n",
        "    image = cv2.imread(image_path)\n",
        "    image = cv2.resize(image, (224, 224))\n",
        "    image = image.astype('float32') / 255.0  # Normalize\n",
        "    return image\n",
        "\n",
        "# Load your trained model\n",
        "model = load_model('deepfake_detection_model_images.h5')\n",
        "\n",
        "# Path to the image you want to test\n",
        "image_path = \"/content/WIN_20230520_00_57_33_Pro.jpg\"\n",
        "\n",
        "# Load and preprocess the image\n",
        "image = load_image(image_path)\n",
        "image = np.expand_dims(image, axis=0)  # Add batch dimension\n",
        "\n",
        "# Make prediction\n",
        "prediction = model.predict(image)\n",
        "\n",
        "if prediction > 0.5:\n",
        "    print(\"The image is a deepfake.\")\n",
        "else:\n",
        "    print(\"The image is real.\")"
      ]
    }
  ]
}